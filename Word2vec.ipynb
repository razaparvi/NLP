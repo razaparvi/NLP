{
  "nbformat": 4,
  "nbformat_minor": 0,
  "metadata": {
    "colab": {
      "provenance": []
    },
    "kernelspec": {
      "name": "python3",
      "display_name": "Python 3"
    },
    "language_info": {
      "name": "python"
    }
  },
  "cells": [
    {
      "cell_type": "code",
      "source": [
        "!pip install gensim\n"
      ],
      "metadata": {
        "colab": {
          "base_uri": "https://localhost:8080/"
        },
        "id": "Gfz9j2ueM-v-",
        "outputId": "1a8e8852-4358-4e93-96e3-96e884bc97cd"
      },
      "execution_count": 1,
      "outputs": [
        {
          "output_type": "stream",
          "name": "stdout",
          "text": [
            "Requirement already satisfied: gensim in /usr/local/lib/python3.10/dist-packages (4.3.3)\n",
            "Requirement already satisfied: numpy<2.0,>=1.18.5 in /usr/local/lib/python3.10/dist-packages (from gensim) (1.26.4)\n",
            "Requirement already satisfied: scipy<1.14.0,>=1.7.0 in /usr/local/lib/python3.10/dist-packages (from gensim) (1.13.1)\n",
            "Requirement already satisfied: smart-open>=1.8.1 in /usr/local/lib/python3.10/dist-packages (from gensim) (7.0.5)\n",
            "Requirement already satisfied: wrapt in /usr/local/lib/python3.10/dist-packages (from smart-open>=1.8.1->gensim) (1.16.0)\n"
          ]
        }
      ]
    },
    {
      "cell_type": "code",
      "source": [],
      "metadata": {
        "id": "FdLTscZDNa3C"
      },
      "execution_count": 1,
      "outputs": []
    },
    {
      "cell_type": "code",
      "execution_count": 2,
      "metadata": {
        "id": "lPvPb1dJAIm5"
      },
      "outputs": [],
      "source": [
        "from gensim.test.utils import common_texts\n",
        "from gensim.models import Word2Vec"
      ]
    },
    {
      "cell_type": "code",
      "source": [
        "common_texts. append([\"timing\", \"resposibility\", \"systematic\"])\n",
        "common_texts"
      ],
      "metadata": {
        "colab": {
          "base_uri": "https://localhost:8080/"
        },
        "id": "2h4tkEhUNuL-",
        "outputId": "fe7a010b-9535-4d19-9e9b-2d8b4501c7e2"
      },
      "execution_count": 13,
      "outputs": [
        {
          "output_type": "execute_result",
          "data": {
            "text/plain": [
              "[['human', 'interface', 'computer'],\n",
              " ['survey', 'user', 'computer', 'system', 'response', 'time'],\n",
              " ['eps', 'user', 'interface', 'system'],\n",
              " ['system', 'human', 'system', 'eps'],\n",
              " ['user', 'response', 'time'],\n",
              " ['trees'],\n",
              " ['graph', 'trees'],\n",
              " ['graph', 'minors', 'trees'],\n",
              " ['graph', 'minors', 'survey'],\n",
              " ['timing', 'resposibility', 'systematic']]"
            ]
          },
          "metadata": {},
          "execution_count": 13
        }
      ]
    },
    {
      "cell_type": "code",
      "source": [
        "model = Word2Vec(sentences=common_texts, vector_size=100, window=5, min_count=1, workers=4)\n",
        "model.save(\"word2vec.model\")"
      ],
      "metadata": {
        "id": "h1-LUfmxNg2F"
      },
      "execution_count": 14,
      "outputs": []
    },
    {
      "cell_type": "code",
      "execution_count": 5,
      "metadata": {
        "id": "5Ftm_VIcNhUD"
      },
      "outputs": [],
      "source": [
        "model2 = Word2Vec.load(\"word2vec.model\")"
      ]
    },
    {
      "cell_type": "code",
      "source": [
        "model2.train([[\"hello\", \"world\"]], total_examples=1, epochs=1)\n",
        "(0, 2)"
      ],
      "metadata": {
        "colab": {
          "base_uri": "https://localhost:8080/"
        },
        "id": "NzB3Gu1AO3uH",
        "outputId": "140be596-6009-4c02-bddf-c7171b812879"
      },
      "execution_count": 6,
      "outputs": [
        {
          "output_type": "stream",
          "name": "stderr",
          "text": [
            "WARNING:gensim.models.word2vec:Effective 'alpha' higher than previous training cycles\n"
          ]
        },
        {
          "output_type": "execute_result",
          "data": {
            "text/plain": [
              "(0, 2)"
            ]
          },
          "metadata": {},
          "execution_count": 6
        }
      ]
    },
    {
      "cell_type": "code",
      "source": [
        "vector = model.wv['computer']\n",
        "vector"
      ],
      "metadata": {
        "colab": {
          "base_uri": "https://localhost:8080/"
        },
        "id": "4c4W90pMPOPF",
        "outputId": "d55be601-6ee6-488a-d81b-4aaa6cdf2263"
      },
      "execution_count": 16,
      "outputs": [
        {
          "output_type": "execute_result",
          "data": {
            "text/plain": [
              "array([-0.00515624, -0.00666834, -0.00777684,  0.00831073, -0.00198234,\n",
              "       -0.00685496, -0.00415439,  0.00514413, -0.00286914, -0.00374966,\n",
              "        0.00162143, -0.00277629, -0.00158436,  0.00107449, -0.00297794,\n",
              "        0.00851928,  0.00391094, -0.00995886,  0.0062596 , -0.00675425,\n",
              "        0.00076943,  0.00440423, -0.00510337, -0.00211067,  0.00809548,\n",
              "       -0.00424379, -0.00763626,  0.00925791, -0.0021555 , -0.00471943,\n",
              "        0.0085708 ,  0.00428334,  0.00432484,  0.00928451, -0.00845308,\n",
              "        0.00525532,  0.00203935,  0.00418828,  0.0016979 ,  0.00446413,\n",
              "        0.00448629,  0.00610452, -0.0032021 , -0.00457573, -0.00042652,\n",
              "        0.00253373, -0.00326317,  0.00605772,  0.00415413,  0.00776459,\n",
              "        0.00256927,  0.00811668, -0.00138721,  0.00807793,  0.00371702,\n",
              "       -0.00804732, -0.00393361, -0.00247188,  0.00489304, -0.00087216,\n",
              "       -0.00283091,  0.00783371,  0.0093229 , -0.00161493, -0.00515925,\n",
              "       -0.00470176, -0.00484605, -0.00960283,  0.00137202, -0.00422492,\n",
              "        0.00252671,  0.00561448, -0.00406591, -0.00959658,  0.0015467 ,\n",
              "       -0.00670012,  0.00249517, -0.00378063,  0.00707842,  0.00064022,\n",
              "        0.00356094, -0.00273913, -0.00171055,  0.00765279,  0.00140768,\n",
              "       -0.00585045, -0.0078345 ,  0.00123269,  0.00645463,  0.00555635,\n",
              "       -0.00897705,  0.00859216,  0.00404698,  0.00746961,  0.00974633,\n",
              "       -0.00728958, -0.00903996,  0.005836  ,  0.00939121,  0.00350693],\n",
              "      dtype=float32)"
            ]
          },
          "metadata": {},
          "execution_count": 16
        }
      ]
    },
    {
      "cell_type": "code",
      "source": [
        "sims = model.wv.most_similar('computer', topn=10)"
      ],
      "metadata": {
        "id": "YsvNSUmeP_t5"
      },
      "execution_count": 8,
      "outputs": []
    },
    {
      "cell_type": "code",
      "source": [
        "sims"
      ],
      "metadata": {
        "colab": {
          "base_uri": "https://localhost:8080/"
        },
        "id": "EVez_gHDQLuj",
        "outputId": "83116807-32e1-4f5b-9662-bdc3b51672d5"
      },
      "execution_count": 9,
      "outputs": [
        {
          "output_type": "execute_result",
          "data": {
            "text/plain": [
              "[('system', 0.21617139875888824),\n",
              " ('survey', 0.04468922317028046),\n",
              " ('interface', 0.015203381888568401),\n",
              " ('time', 0.0019510635174810886),\n",
              " ('trees', -0.03284316882491112),\n",
              " ('human', -0.07424270361661911),\n",
              " ('response', -0.09317591041326523),\n",
              " ('graph', -0.09575342386960983),\n",
              " ('eps', -0.10513808578252792),\n",
              " ('user', -0.16911619901657104)]"
            ]
          },
          "metadata": {},
          "execution_count": 9
        }
      ]
    },
    {
      "cell_type": "code",
      "source": [
        "sims = model.wv.most_similar('computer', topn=10)\n",
        "sims"
      ],
      "metadata": {
        "colab": {
          "base_uri": "https://localhost:8080/"
        },
        "id": "ayFoS4YHl-5_",
        "outputId": "234adb6d-23d6-4231-d64e-df63fff67b25"
      },
      "execution_count": 17,
      "outputs": [
        {
          "output_type": "execute_result",
          "data": {
            "text/plain": [
              "[('system', 0.21617141366004944),\n",
              " ('survey', 0.044689226895570755),\n",
              " ('interface', 0.015107528306543827),\n",
              " ('time', 0.0019510718993842602),\n",
              " ('trees', -0.03284316137433052),\n",
              " ('timing', -0.04552276059985161),\n",
              " ('systematic', -0.04568909481167793),\n",
              " ('human', -0.0742427185177803),\n",
              " ('response', -0.09321597218513489),\n",
              " ('graph', -0.09575342386960983)]"
            ]
          },
          "metadata": {},
          "execution_count": 17
        }
      ]
    },
    {
      "cell_type": "code",
      "source": [
        "sims2 = model.wv.most_similar('graph', topn=3\n",
        "                              )\n",
        "sims2"
      ],
      "metadata": {
        "colab": {
          "base_uri": "https://localhost:8080/"
        },
        "id": "6wXwcf9rQRSt",
        "outputId": "fd7c7ecf-a010-46cd-e11d-603670d85595"
      },
      "execution_count": 12,
      "outputs": [
        {
          "output_type": "execute_result",
          "data": {
            "text/plain": [
              "[('user', 0.06793875247240067),\n",
              " ('survey', 0.03364057466387749),\n",
              " ('eps', 0.009391162544488907)]"
            ]
          },
          "metadata": {},
          "execution_count": 12
        }
      ]
    },
    {
      "cell_type": "code",
      "source": [
        "sims2 = model.wv.most_similar('graph', topn=3\n",
        "                              )\n",
        "sims2"
      ],
      "metadata": {
        "colab": {
          "base_uri": "https://localhost:8080/"
        },
        "id": "7hkZuUywmL6u",
        "outputId": "fbc53709-8e89-4ace-8738-25995a22e8d0"
      },
      "execution_count": 18,
      "outputs": [
        {
          "output_type": "execute_result",
          "data": {
            "text/plain": [
              "[('timing', 0.16072483360767365),\n",
              " ('resposibility', 0.13725273311138153),\n",
              " ('user', 0.06796416640281677)]"
            ]
          },
          "metadata": {},
          "execution_count": 18
        }
      ]
    }
  ]
}